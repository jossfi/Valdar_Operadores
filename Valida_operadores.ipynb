{
  "nbformat": 4,
  "nbformat_minor": 0,
  "metadata": {
    "colab": {
      "provenance": [],
      "authorship_tag": "ABX9TyMsMMrhj4BxpX5LX6dkvSyE",
      "include_colab_link": true
    },
    "kernelspec": {
      "name": "python3",
      "display_name": "Python 3"
    },
    "language_info": {
      "name": "python"
    }
  },
  "cells": [
    {
      "cell_type": "markdown",
      "metadata": {
        "id": "view-in-github",
        "colab_type": "text"
      },
      "source": [
        "<a href=\"https://colab.research.google.com/github/jossfi/Valdar_Operadores/blob/main/Valida_operadores.ipynb\" target=\"_parent\"><img src=\"https://colab.research.google.com/assets/colab-badge.svg\" alt=\"Open In Colab\"/></a>"
      ]
    },
    {
      "cell_type": "code",
      "execution_count": null,
      "metadata": {
        "colab": {
          "base_uri": "https://localhost:8080/"
        },
        "id": "fdOQZX5fVOPT",
        "outputId": "15a49917-fc2e-4574-a365-0ec93fd8d77c"
      },
      "outputs": [
        {
          "output_type": "stream",
          "name": "stdout",
          "text": [
            "=== MENÚ PRINCIPAL ===\n",
            "Selecciona una opción\n",
            "1. Verificar longitud de una palabra\n",
            "2. Encontrar cuadrante de un punto\n",
            "3. Salir\n"
          ]
        }
      ],
      "source": [
        "def verificar_palabra():\n",
        "    palabra = input(\"Ingresa una palabra: \").strip()\n",
        "    longitud = len(palabra)\n",
        "\n",
        "    if longitud == 0:          #condiciones para respuesta\n",
        "        print(\"❌ No se ingresó ninguna palabra.\\n\")\n",
        "    elif 4 <= longitud <= 8:\n",
        "        print(\"✅ La palabra es correcta.\\n\")\n",
        "    elif longitud < 4:\n",
        "        print(f\"❌ Hacen falta letras. Solo tiene {longitud} letras.\\n\")\n",
        "    else:\n",
        "        print(f\"❌ Sobran letras. Tiene {longitud} letras.\\n\")\n",
        "\n",
        "\n",
        "def verificar_cuadrante():\n",
        "    try: #captura datos\n",
        "        x = float(input(\"Ingrese la coordenada X: \"))\n",
        "        y = float(input(\"Ingrese la coordenada Y: \"))\n",
        "\n",
        "        if x == 0 or y == 0: #menú de condiciones para identificar cuadrante\n",
        "            print(\"❌ Ninguna coordenada debe ser 0.\\n\")\n",
        "        elif x > 0 and y > 0:\n",
        "            print(\"✅ El punto se encuentra en el cuadrante I\\n\")\n",
        "        elif x < 0 and y > 0:\n",
        "            print(\"✅ El punto se encuentra en el cuadrante II\\n\")\n",
        "        elif x < 0 and y < 0:\n",
        "            print(\"✅ El punto se encuentra en el cuadrante III\\n\")\n",
        "        elif x > 0 and y < 0:\n",
        "            print(\"✅ El punto se encuentra en el cuadrante IV\\n\")\n",
        "    except ValueError:  #corrobora datos ingresados\n",
        "        print(\"❌ Debes ingresar valores numéricos válidos para las coordenadas.\\n\")\n",
        "\n",
        "\n",
        "def mostrar_menu(): #menú principal\n",
        "    print(\"=== MENÚ PRINCIPAL ===\")\n",
        "    print(\"Selecciona una opción\")\n",
        "    print(\"1. Verificar longitud de una palabra\")\n",
        "    print(\"2. Encontrar cuadrante de un punto\")\n",
        "    print(\"3. Salir\")\n",
        "\n",
        "\n",
        "def programa_principal(): #main\n",
        "    while True: #condicionales del menú\n",
        "        mostrar_menu()\n",
        "        opcion = input(\"Selecciona una opción (1-3): \").strip()\n",
        "\n",
        "        if opcion == \"1\":\n",
        "            verificar_palabra()\n",
        "        elif opcion == \"2\":\n",
        "            verificar_cuadrante()\n",
        "        elif opcion == \"3\":\n",
        "            print(\"👋 Saliendo del programa. ¡Hasta luego!\")\n",
        "            break\n",
        "        else:\n",
        "            print(\"❌ Opción no válida. Intenta nuevamente.\\n\")\n",
        "\n",
        "\n",
        "# Ejecutar el programa\n",
        "programa_principal()"
      ]
    }
  ]
}